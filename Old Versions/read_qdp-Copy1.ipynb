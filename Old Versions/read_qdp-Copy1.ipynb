{
 "cells": [
  {
   "cell_type": "code",
   "execution_count": 1,
   "metadata": {},
   "outputs": [],
   "source": [
    "import numpy as np\n",
    "import pandas as pd\n",
    "import re "
   ]
  },
  {
   "cell_type": "code",
   "execution_count": 2,
   "metadata": {},
   "outputs": [],
   "source": [
    "def read_qdp(file_name, make_excel = False, x = 'bias', y = 'V fb (V)'):\n",
    "    '''\n",
    "    Accepts a raw sting literal for the filename and path.\n",
    "    x and y are strings which name the first 2 columns, default to bias\n",
    "    and V fb (V)\n",
    "    If make_excel is set to True then excel file is created in the name\n",
    "    of the input file.\n",
    "    Return the a pandas dataframe with the data. \n",
    "    '''\n",
    "    #name first two cols after inputs\n",
    "    cols = {0: x, 1: y}\n",
    "    header = 0\n",
    "    \n",
    "    #precompile the regexes for use in loop\n",
    "    col_nam_re = re.compile(r'la\\sy(\\d)\\s(.+)')\n",
    "    data_match_re = re.compile(r'^-?(\\d.+)')\n",
    "    \n",
    "    with open(file_name) as file:\n",
    "        for line in file:\n",
    "            column_match = col_nam_re.match(line)\n",
    "            if column_match:\n",
    "                #remove any formatting from col names\n",
    "                cols[int(column_match.group(1))] = re.sub(r'(\\\\d|\\\\u)',r' ', column_match.group(2))\n",
    "            else:\n",
    "                #once data is matched, loop break and record header\n",
    "                data_match = data_match_re.match(line)\n",
    "                if data_match:\n",
    "                    break\n",
    "            header += 1\n",
    "    #reads table with whitespace seperators (tab or space)\n",
    "    df = pd.read_csv(file_name, sep='\\s+', header=None, skiprows=header, index_col=False)\n",
    "    \n",
    "    #make list of col names for df and number ones without labels\n",
    "    col_names = []\n",
    "    for i in range(len(df.columns)):\n",
    "        try:\n",
    "             col_names.append(cols[i])\n",
    "        except:\n",
    "            col_names.append(str(i))\n",
    "        i += 1\n",
    "            \n",
    "    #set column names and sort by x vals    \n",
    "    df.columns = col_names\n",
    "    df.sort_values(by=[x], inplace=True)\n",
    "    \n",
    "    if make_excel:\n",
    "        #find name for excel sheet from end of path\n",
    "        name_match = re.search(r'(\\\\?((?:.(?!\\\\))+)$)', file_name)\n",
    "        name = re.sub(r'(\\.qdp|\\\\)', r'', name_match.group(1))\n",
    "        #write to file and save\n",
    "        writer = pd.ExcelWriter(str(name)+'.xlsx')\n",
    "        df.to_excel(writer,'Sheet1',index=False)\n",
    "        writer.save()\n",
    "        \n",
    "    return df\n"
   ]
  }
 ],
 "metadata": {
  "kernelspec": {
   "display_name": "Python 3",
   "language": "python",
   "name": "python3"
  },
  "language_info": {
   "codemirror_mode": {
    "name": "ipython",
    "version": 3
   },
   "file_extension": ".py",
   "mimetype": "text/x-python",
   "name": "python",
   "nbconvert_exporter": "python",
   "pygments_lexer": "ipython3",
   "version": "3.7.1"
  }
 },
 "nbformat": 4,
 "nbformat_minor": 2
}
