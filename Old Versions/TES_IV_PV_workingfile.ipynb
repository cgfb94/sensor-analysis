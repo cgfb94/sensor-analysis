{
 "cells": [
  {
   "cell_type": "code",
   "execution_count": 115,
   "metadata": {},
   "outputs": [],
   "source": [
    "import pandas as pd\n",
    "import numpy as np\n",
    "import matplotlib.pyplot as plt\n",
    "from scipy.optimize import curve_fit\n",
    "\n",
    "data = pd.read_excel (r'C:\\Users\\callu\\Dropbox\\03ShOpen1mmGBon_29.38mK_BB3.21.xlsx')"
   ]
  },
  {
   "cell_type": "markdown",
   "metadata": {},
   "source": [
    "    Most important things to do:\n",
    "    (1) Fix lists implimentation of findregions or revert to old\n",
    "    (2) Investigate the y_offset problem - make animation of threshold changing\n",
    "    (3) Make the power read-out more robust\n",
    "    (4) Make a method that calculated R_stray"
   ]
  },
  {
   "cell_type": "code",
   "execution_count": 129,
   "metadata": {},
   "outputs": [],
   "source": [
    "class TES(object):\n",
    "    '''\n",
    "    '''\n",
    "    # initialise with raw IV data and maybe other params?\n",
    "    def __init__(self, rawIV, params=0): \n",
    "        self.rawIV = [rawIV.iloc[:,0].values , rawIV.iloc[:,1].values]\n",
    "        self.params = params\n",
    "        \n",
    "        self.y_offset = 0\n",
    "        self.rnn = 0\n",
    "        \n",
    "        # Values hard coded (for now) taken from spreadsheet\n",
    "        self.R_fb = 100099.6\n",
    "        self.M_ratio = 18.9333333333333\n",
    "                \n",
    "        self.gain = 1 / (self.R_fb * self.M_ratio)\n",
    "        \n",
    "        self.R_shunt = 0.00389\n",
    "        self.R_stray = 0.0005\n",
    "        #This is calculated by making the graph vertical \n",
    "        \n",
    "    def f(self, x, A, B):\n",
    "        ''' \n",
    "        Function of straight line for optimisation function to find\n",
    "        coefficients for.\n",
    "        '''\n",
    "        return A*x + B\n",
    "        \n",
    "    def identify_regions(self, data, threshold):\n",
    "        '''\n",
    "        This function accepts a data frame and a threshold to compare the \n",
    "        gradient to. Checks either side of data set and identifies regions\n",
    "        before the spikes.\n",
    "        Returns a tuple of indices which correspond to the ranges we are \n",
    "        interested in\n",
    "        #TODO Find out what threshold is justified\n",
    "        '''\n",
    "        front = 0 \n",
    "        back = 0 \n",
    "        self.threshold = threshold\n",
    "        self.thresh = int((len(data[0])/100) * threshold)\n",
    "        print('Number of disregarded entries: '+ str(self.thresh))\n",
    "        grad = np.gradient(data[1]) #Gradient of the Voltages\n",
    "        for i in range(len(data[1])): \n",
    "            if grad[i] <= 0:#Check from the start until grad \n",
    "                front = i - self.thresh         #hits the threshold then store index\n",
    "                break\n",
    "        for n in range(len(data[1])):\n",
    "            if grad[-n] <= 0:\n",
    "                back = len(data) - n + self.thresh \n",
    "                break\n",
    "        return front , back\n",
    "\n",
    "    # A,B = curve_fit(f, data['bias'], data['V fb (V)'])[0]\n",
    "    def fitLine(self, inputdata, region):\n",
    "        ''' \n",
    "        Accepts a data frame and a tuple of indices. These are then used \n",
    "        to fit a straight line to the straight regions and plots the\n",
    "        line with the data in the frame. \n",
    "        Returns nothing.\n",
    "        #TODO Generalise!!\n",
    "        '''\n",
    "        front , back = region # Unpack data ranges from region\n",
    "\n",
    "        firstx = inputdata[0][0]\n",
    "        lastx = inputdata[0][-1]\n",
    "        \n",
    "\n",
    "        xvals = np.linspace(firstx, lastx)\n",
    "\n",
    "        #Slice the data in the frame and store in an array \n",
    "        yvals1 = inputdata[1][:front]\n",
    "        yvals2 = inputdata[1][back:]\n",
    "        lineDataY = np.append(yvals1, yvals2)\n",
    "        \n",
    "        xvals1 = inputdata[0][:front]\n",
    "        xvals2 = inputdata[0][back:]\n",
    "\n",
    "        lineDataX = np.append(xvals1, xvals2)\n",
    "        print(\"Regions\")\n",
    "        print(front, back)\n",
    "        #print(\"LinedataX : \" + str(lineDataX))\n",
    "\n",
    "        #fit the sliced data to a line\n",
    "        C, D = curve_fit(self.f, lineDataX, lineDataY)[0]\n",
    "\n",
    "        return C , D , xvals\n",
    "    \n",
    "    def calc_y_offset(self, thresholdPercentage):\n",
    "        '''\n",
    "        Input: Threshold percentage (int)\n",
    "        OutPut: D (float)\n",
    "        '''\n",
    "        ranges = self.identify_regions(self.rawIV, thresholdPercentage)\n",
    "        C, D , xvals = self.fitLine(self.rawIV, ranges)\n",
    "        self.y_offset = D\n",
    "        #print(\"y offset: \" + str(D))\n",
    "        self.rawXvals = xvals\n",
    "        \n",
    "    def calc_I_TES(self, tweak=1):\n",
    "        '''\n",
    "        Generate I_tes (array) data from tweak(float), y_offset (float)\n",
    "        , gain (float).\n",
    "        \n",
    "        tweaks not yet used\n",
    "        '''\n",
    "        #TODO generate \n",
    "        self.I_TES = [(entry - self.y_offset) * 10**6 * self.gain for entry in (self.rawIV[1])]\n",
    "        \n",
    "    def calc_V_bias(self, tweak=1):\n",
    "        '''\n",
    "        Generates B_bias data\n",
    "        '''\n",
    "        self.V_bias = []\n",
    "        for index in range(len(self.rawIV[0])):\n",
    "            self.V_bias.append((self.rawIV[0][index] * self.R_shunt) - (self.I_TES[index]*(self.R_shunt + self.R_stray)))\n",
    "        \n",
    "    def plotIV(self):\n",
    "        '''\n",
    "        \n",
    "        '''\n",
    "        #plt.plot(self.V_bias, self.I_TES)\n",
    "        analysed_IV = [self.V_bias, self.I_TES]\n",
    "        regions = self.identify_regions(analysed_IV, self.threshold)\n",
    "\n",
    "        C, D , Axvals = self.fitLine(analysed_IV, regions)\n",
    "        \n",
    "        self.rnn = 1/C\n",
    "        \n",
    "        fig, ax = plt.subplots()\n",
    "        \n",
    "        plt.plot(Axvals, self.f(Axvals, C , D), label='Load Line')\n",
    "        #plt.axhline(y=0)\n",
    "        #plt.axvline(x=0)\n",
    "        plt.grid()\n",
    "        plt.plot(self.V_bias, self.I_TES, label='TES IV')\n",
    "        ax.set_xlabel(\"Voltage (mV)\")\n",
    "        ax.set_ylabel(\"TES Current (mA)\")\n",
    "        plt.title(\"Calibrated IV Curve\")\n",
    "        ax.legend()\n",
    "        #plt.plot(lineDataX, lineDataY)\n",
    "        \n",
    "    def calc_P_TES(self):\n",
    "        self.P_TES = [self.I_TES[index] * self.V_bias[index] for index in range(len(self.I_TES))]\n",
    "\n",
    "    def plotPV(self):\n",
    "        fig, ax = plt.subplots()\n",
    "        plt.grid()\n",
    "        plt.plot(self.V_bias, self.P_TES, label='TES PV')\n",
    "        plt.title(\"Power Curve\")\n",
    "        ax.set_xlabel(\"Voltage (mV)\")\n",
    "        ax.set_ylabel(\"TES Power (fW)\")\n",
    "        \n",
    "        if self.calc_superconducting():\n",
    "            readout = self.constLine(self.P_TES, (max(self.P_TES)/500))\n",
    "            plt.plot(self.V_bias, [readout for entry in self.V_bias], label=readout)\n",
    "        \n",
    "        plt.legend()\n",
    "        \n",
    "\n",
    "    def constLine(self, data, margin):\n",
    "        '''\n",
    "        Trying to optimise a line of y = const to read off the power from the graph.\n",
    "        Accepts a set of data (power values) and a step size, which doubles as the margin.\n",
    "        Returns the y value which corresponds to the most values from the power graph.\n",
    "\n",
    "        #TODO make more robust. maybe make it find the largest x range rather than just hits\n",
    "\n",
    "        This is currently a niave implementation  but it works under the assumption that there will be \n",
    "        either uniform readings or higher concentration around 0. Currently -ve values of P are disregarded to \n",
    "        '''\n",
    "        ys = []\n",
    "        counts = []\n",
    "        y = 0\n",
    "        while y < max(data):\n",
    "            y1 = y - margin\n",
    "            y2 = y + margin\n",
    "            count = 0\n",
    "            for entry in data:\n",
    "                if entry > 0 and entry > y1 and entry < y2:\n",
    "                    count += 1\n",
    "            counts.append(count)\n",
    "            ys.append(y)\n",
    "            y += margin\n",
    "        npcounts = np.array(counts)\n",
    "        ind = np.argmax(npcounts)\n",
    "        return ys[ind]\n",
    "    \n",
    "    def calc_R_TES(self):\n",
    "        self.R_TES = [self.V_bias[i] / self.I_TES[i] for i in range(len(self.V_bias))]\n",
    "\n",
    "    def plotPR(self):\n",
    "        fig, ax = plt.subplots()\n",
    "        plt.grid()\n",
    "        plt.plot(self.R_TES, self.P_TES, label='TES PR')\n",
    "        plt.title(\"Power vs Resistance Curve\")\n",
    "        ax.set_xlabel(\"TES Resistance (ohm)\")\n",
    "        ax.set_ylabel(\"TES Power (fW)\")\n",
    "        \n",
    "        if self.calc_superconducting():\n",
    "            readout = self.constLine(self.P_TES, (max(self.P_TES)/500))\n",
    "            plt.plot(self.R_TES, [readout for entry in self.R_TES], label=readout)\n",
    "\n",
    "        plt.legend()\n",
    "        \n",
    "    def calc_superconducting(self):\n",
    "        differences = []\n",
    "        \n",
    "        for idx in range(len(self.V_bias) - 1):\n",
    "            differences.append(self.I_TES[idx] - self.I_TES[idx + 1])\n",
    "        rangeI = max(self.I_TES) - min(self.I_TES)\n",
    "        print(max(differences))\n",
    "        if max(differences) >= rangeI / 10:\n",
    "            self.superconducting = True\n",
    "        else:\n",
    "            self.superconducting = False\n",
    "            \n",
    "        return self.superconducting\n",
    "    \n",
    "    ##################################################################################################\n",
    "    ## Possible future functions\n",
    "    def smooth_IV():\n",
    "        #TODO\n",
    "        ''' Maybe a function to smooth noisy data before we find the \n",
    "        y offset. \n",
    "        Inputs: rawIV (or just use self?)\n",
    "        Outputs: stores smoothRawIV in self\n",
    "        '''\n",
    "        pass\n",
    "    \n",
    "    def find_threshold():\n",
    "        '''\n",
    "        Will find the most optimal threshold to use for the region finding\n",
    "        '''\n",
    "        \n",
    "        pass "
   ]
  },
  {
   "cell_type": "code",
   "execution_count": 130,
   "metadata": {
    "scrolled": true
   },
   "outputs": [
    {
     "name": "stdout",
     "output_type": "stream",
     "text": [
      "0\n",
      "Number of disregarded entries: 0\n",
      "Regions\n",
      "108 2\n",
      "0.013987026704554761\n",
      "0\n",
      "1\n",
      "Number of disregarded entries: 3\n",
      "Regions\n",
      "105 5\n",
      "0.013767436453103658\n",
      "0\n",
      "2\n",
      "Number of disregarded entries: 6\n",
      "Regions\n",
      "102 8\n",
      "0.013411372032587465\n",
      "0\n",
      "3\n",
      "Number of disregarded entries: 10\n",
      "Regions\n",
      "98 12\n",
      "0.012804955244745564\n",
      "0\n",
      "4\n",
      "Number of disregarded entries: 13\n",
      "Regions\n",
      "95 15\n",
      "0.012259558596968478\n",
      "0\n",
      "5\n",
      "Number of disregarded entries: 17\n",
      "Regions\n",
      "91 19\n",
      "0.01140287211567636\n",
      "0\n",
      "6\n",
      "Number of disregarded entries: 20\n",
      "Regions\n",
      "88 22\n",
      "0.01067373093098234\n",
      "0\n",
      "7\n",
      "Number of disregarded entries: 24\n",
      "Regions\n",
      "84 26\n",
      "0.009593561123278582\n",
      "0\n",
      "8\n",
      "Number of disregarded entries: 27\n",
      "Regions\n",
      "81 29\n",
      "0.008709821334362378\n",
      "0\n",
      "9\n",
      "Number of disregarded entries: 31\n",
      "Regions\n",
      "77 33\n",
      "0.007437937656019189\n",
      "0\n",
      "10\n",
      "Number of disregarded entries: 34\n",
      "Regions\n",
      "74 36\n",
      "0.006416326273528534\n",
      "0\n",
      "11\n",
      "Number of disregarded entries: 38\n",
      "Regions\n",
      "70 40\n",
      "0.004967452027230479\n",
      "0\n",
      "12\n",
      "Number of disregarded entries: 41\n",
      "Regions\n",
      "67 43\n",
      "0.0038150075729438404\n",
      "0\n",
      "13\n",
      "Number of disregarded entries: 45\n",
      "Regions\n",
      "63 47\n",
      "0.0021929432028315876\n",
      "0\n",
      "14\n",
      "Number of disregarded entries: 48\n",
      "Regions\n",
      "60 50\n",
      "0.0009136451370236331\n",
      "0\n",
      "15\n",
      "Number of disregarded entries: 52\n",
      "Regions\n",
      "56 54\n",
      "-0.0008943537142895863\n",
      "0\n",
      "16\n",
      "Number of disregarded entries: 55\n",
      "Regions\n",
      "53 57\n",
      "-0.0023582883882955485\n",
      "0\n",
      "17\n",
      "Number of disregarded entries: 58\n",
      "Regions\n",
      "50 60\n",
      "-0.00393730571742501\n",
      "0\n",
      "18\n",
      "Number of disregarded entries: 62\n",
      "Regions\n",
      "46 64\n",
      "-0.0062882916146302925\n",
      "0\n",
      "19\n",
      "Number of disregarded entries: 65\n",
      "Regions\n",
      "43 67\n",
      "-0.008271715167959437\n",
      "0\n",
      "20\n",
      "Number of disregarded entries: 69\n",
      "Regions\n",
      "39 71\n",
      "-0.011262736686939112\n",
      "0\n",
      "21\n",
      "Number of disregarded entries: 72\n",
      "Regions\n",
      "36 74\n",
      "-0.013811794369625874\n",
      "0\n",
      "22\n",
      "Number of disregarded entries: 76\n",
      "Regions\n",
      "32 78\n",
      "-0.017713709784549003\n",
      "0\n",
      "23\n",
      "Number of disregarded entries: 79\n",
      "Regions\n",
      "29 81\n",
      "-0.02109955269346453\n",
      "0\n",
      "24\n",
      "Number of disregarded entries: 83\n",
      "Regions\n",
      "25 85\n",
      "-0.0263905749514024\n",
      "0\n",
      "25\n",
      "Number of disregarded entries: 86\n",
      "Regions\n",
      "22 88\n",
      "-0.03109977609627812\n",
      "0\n",
      "26\n",
      "Number of disregarded entries: 90\n",
      "Regions\n",
      "18 92\n",
      "-0.03867417832050959\n",
      "0\n",
      "27\n",
      "Number of disregarded entries: 93\n",
      "Regions\n",
      "15 95\n",
      "-0.045647732880835123\n",
      "0\n",
      "28\n",
      "Number of disregarded entries: 97\n",
      "Regions\n",
      "11 99\n",
      "-0.057429854382616385\n",
      "0\n",
      "29\n",
      "Number of disregarded entries: 100\n",
      "Regions\n",
      "8 102\n",
      "-0.06950050317324385\n",
      "0\n"
     ]
    }
   ],
   "source": [
    "TESt = TES(data)\n",
    "for i in range(30):\n",
    "    print(i)\n",
    "    TESt = TES(data)\n",
    "    TESt.calc_y_offset(i)\n",
    "    print(TESt.y_offset)\n",
    "    TESt.calc_I_TES()\n",
    "    TESt.calc_V_bias()\n",
    "    #TESt.plotIV()\n",
    "    plt.show()\n",
    "    print(TESt.rnn)"
   ]
  },
  {
   "cell_type": "markdown",
   "metadata": {},
   "source": [
    "Biggest conceptual problem is how to reliably choose a threshold.\n",
    "What to do next:\n",
    "Find a way of finding the best threshold and investigate cutting off the front and back too.\n",
    "Doing the list thing clearly screwed up generating the regions."
   ]
  },
  {
   "cell_type": "code",
   "execution_count": 98,
   "metadata": {},
   "outputs": [
    {
     "name": "stdout",
     "output_type": "stream",
     "text": [
      "Number of disregarded entries: 34\n",
      "Calculated Rnn = 0.10123992987307759\n"
     ]
    },
    {
     "data": {
      "image/png": "[encoded data removed]",
      "text/plain": [
       "<Figure size 432x288 with 1 Axes>"
      ]
     },
     "metadata": {
      "needs_background": "light"
     },
     "output_type": "display_data"
    }
   ],
   "source": [
    "TESt.plotIV()\n",
    "print(\"Calculated Rnn = \" + str(TESt.rnn))"
   ]
  },
  {
   "cell_type": "code",
   "execution_count": 71,
   "metadata": {
    "scrolled": true
   },
   "outputs": [
    {
     "name": "stdout",
     "output_type": "stream",
     "text": [
      "1.3722479678725923\n"
     ]
    },
    {
     "data": {
      "image/png": "[encoded data removed]",
      "text/plain": [
       "<Figure size 432x288 with 1 Axes>"
      ]
     },
     "metadata": {
      "needs_background": "light"
     },
     "output_type": "display_data"
    }
   ],
   "source": [
    "TESt.calc_P_TES()\n",
    "TESt.plotPV()"
   ]
  },
  {
   "cell_type": "markdown",
   "metadata": {},
   "source": [
    "    Things to do:\n",
    "    (0) Find which thresholds work best, maybe write a function to pick the best?\n",
    "    Ok, so the problem is that there are many more entries towards the transition than out at the edges. In order to get a consistant result a better cutoff needs to be found. Maybe use only values that fall within an x-range rather than just dumping a percentage of the data. This would be more robust to changing amounts of data. \n",
    "    (i)Find the average of the first and last 30% of x-range entries then use these points to fit the straight line. \n",
    "    (ii) Find where the value where the gradient deviates from its original by some margin and use this as the cutoff\n",
    "   \n",
    "    \n",
    "    --(1) Try test cases where there is no superconductivity and find a way to deal with those. (look for --ve to ++ve in data or use a nueral net for the fun of it)\n",
    "    Turns out it analyses the data fine. Does produce readoff lines when it shouldnt though. Made a test to see if superconducting. Seems to work on simple cases. --\n",
    "    \n",
    "    (2) Re-check the gradient of the raw data. The gradient doesn't start constant, so maybe snip some off the front too? Does it make a difference?\n",
    "    \n",
    "    See problem (0)\n",
    "    \n",
    "    (3) I'm currently storing data in dataframes and ranges, as well as standard lists. This should be standardised. Also prefer np arrays over lists.\n",
    "    Ok using pure vanilla lists is actually faster as otherwise I'm just converting to np for no reason. The code is also a lot easier to read when they are normal lists. Output could still be made into a dataframe, however. \n",
    "    \n",
    "    (4) Look at the perl scipts\n",
    "    (5) Build in noise resistance, smooth the curve?\n",
    "    (6) Find efficiency improvements "
   ]
  },
  {
   "cell_type": "code",
   "execution_count": null,
   "metadata": {},
   "outputs": [],
   "source": []
  },
  {
   "cell_type": "code",
   "execution_count": 72,
   "metadata": {
    "scrolled": true
   },
   "outputs": [
    {
     "name": "stdout",
     "output_type": "stream",
     "text": [
      "1.3722479678725923\n"
     ]
    },
    {
     "data": {
      "image/png": "[encoded data removed]",
      "text/plain": [
       "<Figure size 432x288 with 1 Axes>"
      ]
     },
     "metadata": {
      "needs_background": "light"
     },
     "output_type": "display_data"
    }
   ],
   "source": [
    "TESt.calc_R_TES()\n",
    "TESt.plotPR()"
   ]
  },
  {
   "cell_type": "code",
   "execution_count": 73,
   "metadata": {},
   "outputs": [],
   "source": [
    "data2 = pd.read_excel (r'C:\\Users\\callu\\Dropbox\\University\\Year 3\\Block 2b\\Project\\_C04P03ShClosed_44.66mK_BB3.20K.xlsx')"
   ]
  },
  {
   "cell_type": "code",
   "execution_count": 86,
   "metadata": {},
   "outputs": [
    {
     "name": "stdout",
     "output_type": "stream",
     "text": [
      "-0.0001982451649702751\n"
     ]
    },
    {
     "data": {
      "image/png": "[encoded data removed]",
      "text/plain": [
       "<Figure size 432x288 with 1 Axes>"
      ]
     },
     "metadata": {
      "needs_background": "light"
     },
     "output_type": "display_data"
    }
   ],
   "source": [
    "TESt2 = TES(data2)\n",
    "\n",
    "TESt2.calc_y_offset(110)\n",
    "print(TESt2.y_offset)\n",
    "TESt2.calc_I_TES()\n",
    "TESt2.calc_V_bias()\n",
    "TESt2.plotIV()"
   ]
  },
  {
   "cell_type": "code",
   "execution_count": 87,
   "metadata": {},
   "outputs": [
    {
     "name": "stdout",
     "output_type": "stream",
     "text": [
      "-0.0030658553147966394\n"
     ]
    },
    {
     "data": {
      "image/png": "[encoded data removed]",
      "text/plain": [
       "<Figure size 432x288 with 1 Axes>"
      ]
     },
     "metadata": {
      "needs_background": "light"
     },
     "output_type": "display_data"
    }
   ],
   "source": [
    "TESt2.calc_P_TES()\n",
    "TESt2.plotPV()"
   ]
  },
  {
   "cell_type": "code",
   "execution_count": 78,
   "metadata": {},
   "outputs": [
    {
     "name": "stdout",
     "output_type": "stream",
     "text": [
      "-0.0030658553147966394\n"
     ]
    },
    {
     "data": {
      "image/png": "[encoded data removed]",
      "text/plain": [
       "<Figure size 432x288 with 1 Axes>"
      ]
     },
     "metadata": {
      "needs_background": "light"
     },
     "output_type": "display_data"
    }
   ],
   "source": [
    "TESt2.calc_R_TES()\n",
    "TESt2.plotPR()"
   ]
  },
  {
   "cell_type": "code",
   "execution_count": 79,
   "metadata": {},
   "outputs": [
    {
     "name": "stdout",
     "output_type": "stream",
     "text": [
      "1.3722479678725923\n",
      "-0.0030658553147966394\n",
      "False\n",
      "False\n"
     ]
    }
   ],
   "source": [
    "TESt.calc_superconducting()\n",
    "print(TESt2.calc_superconducting())\n",
    "print(TESt.superconducting == TESt2.superconducting)"
   ]
  },
  {
   "cell_type": "code",
   "execution_count": null,
   "metadata": {},
   "outputs": [],
   "source": []
  },
  {
   "cell_type": "code",
   "execution_count": null,
   "metadata": {},
   "outputs": [],
   "source": []
  }
 ],
 "metadata": {
  "kernelspec": {
   "display_name": "Python 3",
   "language": "python",
   "name": "python3"
  },
  "language_info": {
   "codemirror_mode": {
    "name": "ipython",
    "version": 3
   },
   "file_extension": ".py",
   "mimetype": "text/x-python",
   "name": "python",
   "nbconvert_exporter": "python",
   "pygments_lexer": "ipython3",
   "version": "3.7.1"
  }
 },
 "nbformat": 4,
 "nbformat_minor": 2
}
