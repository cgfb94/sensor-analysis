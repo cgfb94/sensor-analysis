{
 "cells": [
  {
   "cell_type": "code",
   "execution_count": 1,
   "metadata": {},
   "outputs": [
    {
     "ename": "ModuleNotFoundError",
     "evalue": "No module named 'TES_IV_PV_np'",
     "output_type": "error",
     "traceback": [
      "\u001b[1;31m---------------------------------------------------------------------------\u001b[0m",
      "\u001b[1;31mModuleNotFoundError\u001b[0m                       Traceback (most recent call last)",
      "\u001b[1;32m<ipython-input-1-7347a74844e7>\u001b[0m in \u001b[0;36m<module>\u001b[1;34m\u001b[0m\n\u001b[1;32m----> 1\u001b[1;33m \u001b[1;32mimport\u001b[0m \u001b[0mTES_IV_PV_np\u001b[0m \u001b[1;32mas\u001b[0m \u001b[0mTESnp\u001b[0m\u001b[1;33m\u001b[0m\u001b[1;33m\u001b[0m\u001b[0m\n\u001b[0m\u001b[0;32m      2\u001b[0m \u001b[1;32mimport\u001b[0m \u001b[0mTES_IV_PV_lists\u001b[0m \u001b[1;32mas\u001b[0m \u001b[0mTESlst\u001b[0m\u001b[1;33m\u001b[0m\u001b[1;33m\u001b[0m\u001b[0m\n",
      "\u001b[1;31mModuleNotFoundError\u001b[0m: No module named 'TES_IV_PV_np'"
     ]
    }
   ],
   "source": [
    "import TES_IV_PV_np as TESnp\n",
    "import TES_IV_PV_lists as TESlst"
   ]
  },
  {
   "cell_type": "code",
   "execution_count": 6,
   "metadata": {},
   "outputs": [],
   "source": [
    "import pandas as pd\n",
    "import numpy as np\n",
    "import matplotlib.pyplot as plt\n",
    "from scipy.optimize import curve_fit\n",
    "\n",
    "import time\n",
    "\n",
    "data = pd.read_excel (r'C:\\Users\\callu\\Dropbox\\03ShOpen1mmGBon_29.38mK_BB3.21.xlsx')\n",
    "data2 = pd.read_excel (r'C:\\Users\\callu\\Dropbox\\University\\Year 3\\Block 2b\\Project\\_C04P03ShClosed_44.66mK_BB3.20K.xlsx')"
   ]
  },
  {
   "cell_type": "code",
   "execution_count": 23,
   "metadata": {},
   "outputs": [],
   "source": [
    "TESnp1 = TESnp.TES(data)\n",
    "TESls1 = TESlst.TES(data)\n",
    "\n",
    "tests = 1000"
   ]
  },
  {
   "cell_type": "code",
   "execution_count": 24,
   "metadata": {},
   "outputs": [
    {
     "name": "stdout",
     "output_type": "stream",
     "text": [
      "Numpy Time:\n",
      "1.4626226425170898\n"
     ]
    }
   ],
   "source": [
    "start = time.time()\n",
    "for i in range(tests):\n",
    "    TESnp1 = TESnp.TES(data)\n",
    "    TESnp1.calc_y_offset(8)\n",
    "    TESnp1.calc_I_TES()\n",
    "    TESnp1.calc_V_bias()\n",
    "    TESnp1.calc_P_TES()\n",
    "    TESnp1.calc_R_TES()\n",
    "    #TESnp1.plotIV()\n",
    "end = time.time()\n",
    "print(\"Numpy Time:\")\n",
    "print(end - start)"
   ]
  },
  {
   "cell_type": "code",
   "execution_count": 25,
   "metadata": {},
   "outputs": [
    {
     "name": "stdout",
     "output_type": "stream",
     "text": [
      "Lists Time:\n",
      "1.274975061416626\n"
     ]
    }
   ],
   "source": [
    "start = time.time()\n",
    "for i in range(tests):\n",
    "    TESls1 = TESlst.TES(data)\n",
    "    TESls1.calc_y_offset(8)\n",
    "    TESls1.calc_I_TES()\n",
    "    TESls1.calc_V_bias()\n",
    "    TESls1.calc_P_TES()\n",
    "    TESls1.calc_R_TES()\n",
    "    #TESls1.plotIV()\n",
    "end = time.time()\n",
    "print(\"Lists Time:\")\n",
    "print(end - start)"
   ]
  },
  {
   "cell_type": "code",
   "execution_count": null,
   "metadata": {},
   "outputs": [],
   "source": []
  }
 ],
 "metadata": {
  "kernelspec": {
   "display_name": "Python 3",
   "language": "python",
   "name": "python3"
  },
  "language_info": {
   "codemirror_mode": {
    "name": "ipython",
    "version": 3
   },
   "file_extension": ".py",
   "mimetype": "text/x-python",
   "name": "python",
   "nbconvert_exporter": "python",
   "pygments_lexer": "ipython3",
   "version": "3.7.1"
  }
 },
 "nbformat": 4,
 "nbformat_minor": 2
}
